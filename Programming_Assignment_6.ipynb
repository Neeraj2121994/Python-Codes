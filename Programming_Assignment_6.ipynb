{
 "cells": [
  {
   "cell_type": "code",
   "execution_count": 1,
   "id": "2fb57f71",
   "metadata": {},
   "outputs": [],
   "source": [
    "#Write a Python Program to Display Fibonacci Sequence?"
   ]
  },
  {
   "cell_type": "code",
   "execution_count": 15,
   "id": "c0ca4331",
   "metadata": {},
   "outputs": [],
   "source": [
    "class fib:\n",
    "    def fib_series(self,n):\n",
    "        self.n=n\n",
    "        a=1\n",
    "        b=1\n",
    "        lst=[a,b]\n",
    "        if n<=0:\n",
    "            print (\"Enter a number greater then 0\")\n",
    "        elif 0<n<=2:\n",
    "            print (lst)\n",
    "        else:\n",
    "            for i in range(2,n):\n",
    "                series = a+b\n",
    "                a=b\n",
    "                b=series\n",
    "                lst.append(series)\n",
    "            return (lst)\n",
    "    "
   ]
  },
  {
   "cell_type": "code",
   "execution_count": 19,
   "id": "713a39be",
   "metadata": {},
   "outputs": [],
   "source": [
    "#Write a Python Program to Find Factorial of Number"
   ]
  },
  {
   "cell_type": "code",
   "execution_count": 35,
   "id": "8d9202d5",
   "metadata": {},
   "outputs": [
    {
     "name": "stdout",
     "output_type": "stream",
     "text": [
      "Enter n= -1\n",
      "Write a number grater than 0\n"
     ]
    }
   ],
   "source": [
    "n=int(input(\"Enter n= \"))\n",
    "class fact:\n",
    "    def factoral(self,n):\n",
    "        self.n=n\n",
    "        a=1\n",
    "        if n<0:\n",
    "            print (\"Write a number grater than 0\")\n",
    "        elif n==0:\n",
    "            print (\"Factorial is 1\")\n",
    "        else:\n",
    "            for i in range (1,n+1):\n",
    "                fact = i*a\n",
    "                a=fact\n",
    "            return(fact)\n",
    "x=fact()\n",
    "x.factoral(n)"
   ]
  },
  {
   "cell_type": "code",
   "execution_count": 36,
   "id": "e89d9597",
   "metadata": {},
   "outputs": [],
   "source": [
    "#Write a Python Program to calculate your Body Mass Index?"
   ]
  },
  {
   "cell_type": "code",
   "execution_count": 41,
   "id": "e1d172d4",
   "metadata": {},
   "outputs": [
    {
     "name": "stdout",
     "output_type": "stream",
     "text": [
      "Enter the mass of the person in Kg= 67.2\n",
      "Enter the height of the person in m= 1.85\n",
      "The body mass index of a person is 19.634769905040173\n"
     ]
    }
   ],
   "source": [
    "Mass = float(input(\"Enter the mass of the person in Kg= \"))\n",
    "Height = float(input(\"Enter the height of the person in m= \"))\n",
    "class BMI:\n",
    "    def __init__(self,Mass,Height):\n",
    "        self.Mass = Mass\n",
    "        self.Height = Height\n",
    "        BMIndex = (Mass)/(Height**2)\n",
    "        print (\"The body mass index of a person is {}\".format(BMIndex))\n",
    "x=BMI(Mass,Height)"
   ]
  },
  {
   "cell_type": "code",
   "execution_count": 42,
   "id": "38023251",
   "metadata": {},
   "outputs": [],
   "source": [
    "#Write a Python Program to calculate the natural logarithm of any number?"
   ]
  },
  {
   "cell_type": "code",
   "execution_count": 48,
   "id": "4a1ff5d4",
   "metadata": {},
   "outputs": [
    {
     "name": "stdout",
     "output_type": "stream",
     "text": [
      "Enter a number to calculate its log = 100\n",
      "The log of the number is 2.0\n"
     ]
    }
   ],
   "source": [
    "from numpy import *\n",
    "n=float(input(\"Enter a number to calculate its log = \"))\n",
    "class logarithm:\n",
    "    def __init__(self,n):\n",
    "        self.n=n\n",
    "        a=log10(n)\n",
    "        print (\"The log of the number is {}\".format(a))\n",
    "Output=logarithm(n)\n"
   ]
  },
  {
   "cell_type": "code",
   "execution_count": 49,
   "id": "46d45033",
   "metadata": {},
   "outputs": [],
   "source": [
    "#Write a Python Program for cube sum of first n natural numbers?"
   ]
  },
  {
   "cell_type": "code",
   "execution_count": 50,
   "id": "83e1ebf1",
   "metadata": {},
   "outputs": [
    {
     "name": "stdout",
     "output_type": "stream",
     "text": [
      "Enter the last number upto which you want the cube of their summation = 3\n",
      "The cubic sum of n numbers are 36.0\n"
     ]
    }
   ],
   "source": [
    "n=int(input(\"Enter the last number upto which you want the cube of their summation = \"))\n",
    "class cubic:\n",
    "    def __init__(self,n):\n",
    "        summation = (n*(n+1)/2)**2\n",
    "        print (\"The cubic sum of n numbers are {}\".format(summation))\n",
    "x=cubic(n)"
   ]
  },
  {
   "cell_type": "code",
   "execution_count": null,
   "id": "ad633927",
   "metadata": {},
   "outputs": [],
   "source": []
  }
 ],
 "metadata": {
  "kernelspec": {
   "display_name": "Python 3 (ipykernel)",
   "language": "python",
   "name": "python3"
  },
  "language_info": {
   "codemirror_mode": {
    "name": "ipython",
    "version": 3
   },
   "file_extension": ".py",
   "mimetype": "text/x-python",
   "name": "python",
   "nbconvert_exporter": "python",
   "pygments_lexer": "ipython3",
   "version": "3.9.7"
  }
 },
 "nbformat": 4,
 "nbformat_minor": 5
}
