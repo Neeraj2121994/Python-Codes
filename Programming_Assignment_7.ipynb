{
 "cells": [
  {
   "cell_type": "code",
   "execution_count": 1,
   "id": "b97e8c6b",
   "metadata": {},
   "outputs": [],
   "source": [
    "#Write a Python Program to find sum of array?"
   ]
  },
  {
   "cell_type": "code",
   "execution_count": 15,
   "id": "95585a8d",
   "metadata": {},
   "outputs": [
    {
     "name": "stdout",
     "output_type": "stream",
     "text": [
      "Enter the list1 2 3 4 5 6 \n",
      "The summation of array are 21\n"
     ]
    }
   ],
   "source": [
    "Arr = list(map(int, input(\"Enter the list\").split()))\n",
    "def summation_of_array(arr):\n",
    "    j=0\n",
    "    for i in arr:\n",
    "        summation = i+j\n",
    "        j=summation\n",
    "    print (\"The summation of array are {}\".format(summation))\n",
    "x=summation_of_array(Arr)"
   ]
  },
  {
   "cell_type": "code",
   "execution_count": 10,
   "id": "8f54c2bd",
   "metadata": {},
   "outputs": [],
   "source": [
    "# Write a Python Program to find largest element in an array?"
   ]
  },
  {
   "cell_type": "code",
   "execution_count": 14,
   "id": "65e96545",
   "metadata": {},
   "outputs": [
    {
     "name": "stdout",
     "output_type": "stream",
     "text": [
      "Enter the list2 3 4 5 6 \n",
      "6\n"
     ]
    }
   ],
   "source": [
    "Arr1=list(map(int,input(\"Enter the list\").split()))\n",
    "def gae(arr):\n",
    "    Greatest_Number = max(arr)\n",
    "    print (Greatest_Number)\n",
    "x= gae(Arr1)"
   ]
  },
  {
   "cell_type": "code",
   "execution_count": 14,
   "id": "49a01860",
   "metadata": {},
   "outputs": [],
   "source": [
    "#Write a Python Program for array rotation?"
   ]
  },
  {
   "cell_type": "code",
   "execution_count": 13,
   "id": "ffad68f6",
   "metadata": {},
   "outputs": [
    {
     "name": "stdout",
     "output_type": "stream",
     "text": [
      "Enter the array1 2 3 4 5\n",
      "Enter the number of rotations2\n",
      "[3, 4, 5, 1, 2]\n",
      "None\n"
     ]
    }
   ],
   "source": [
    "Arr2=list(map(int,input(\"Enter the array\").split()))\n",
    "n=int(input(\"Enter the number of rotations\"))\n",
    "def arr_rotation(n,arr):\n",
    "    if n>len(arr):\n",
    "        n=n%len(arr)\n",
    "        Rotated_array=arr[n:]+arr[:n]\n",
    "        print(Rotated_array)\n",
    "    else:\n",
    "        Rotated_array = arr[n:]+arr[:n]\n",
    "        print(Rotated_array)\n",
    "x1=arr_rotation(n,Arr2)\n",
    "print (x1)\n",
    "    "
   ]
  },
  {
   "cell_type": "code",
   "execution_count": 64,
   "id": "e1605515",
   "metadata": {},
   "outputs": [],
   "source": [
    "#Write a Python Program to check if given array is Monotonic?"
   ]
  },
  {
   "cell_type": "code",
   "execution_count": 10,
   "id": "1a8cad3a",
   "metadata": {},
   "outputs": [
    {
     "name": "stdout",
     "output_type": "stream",
     "text": [
      "Enter the array1 2 3 4 5 4 3 21\n",
      "non-mono\n"
     ]
    }
   ],
   "source": [
    "Arr3=list(map(int,input(\"Enter the array\").split()))\n",
    "def monotonic(arr):\n",
    "    increasing = True\n",
    "    decreasing = True\n",
    "    for i in range(len(arr)-1):\n",
    "        if arr[i]<arr[i+1]:\n",
    "            decreasing = False\n",
    "        elif arr[i]>arr[i+1]:\n",
    "            increasing = False\n",
    "    if increasing or decreasing:\n",
    "        print(\"mono\")\n",
    "    else:\n",
    "        print (\"non-mono\")\n",
    "x4=monotonic(Arr3)\n",
    "\n",
    "        \n",
    "        "
   ]
  },
  {
   "cell_type": "code",
   "execution_count": null,
   "id": "3be178a3",
   "metadata": {},
   "outputs": [],
   "source": []
  },
  {
   "cell_type": "code",
   "execution_count": null,
   "id": "ccce6dda",
   "metadata": {},
   "outputs": [],
   "source": []
  },
  {
   "cell_type": "code",
   "execution_count": null,
   "id": "98528761",
   "metadata": {},
   "outputs": [],
   "source": []
  },
  {
   "cell_type": "code",
   "execution_count": null,
   "id": "b038c274",
   "metadata": {},
   "outputs": [],
   "source": []
  },
  {
   "cell_type": "code",
   "execution_count": null,
   "id": "f944a36f",
   "metadata": {},
   "outputs": [],
   "source": []
  }
 ],
 "metadata": {
  "kernelspec": {
   "display_name": "Python 3 (ipykernel)",
   "language": "python",
   "name": "python3"
  },
  "language_info": {
   "codemirror_mode": {
    "name": "ipython",
    "version": 3
   },
   "file_extension": ".py",
   "mimetype": "text/x-python",
   "name": "python",
   "nbconvert_exporter": "python",
   "pygments_lexer": "ipython3",
   "version": "3.9.7"
  }
 },
 "nbformat": 4,
 "nbformat_minor": 5
}
