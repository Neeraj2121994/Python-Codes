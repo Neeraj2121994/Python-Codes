{
 "cells": [
  {
   "cell_type": "code",
   "execution_count": 1,
   "id": "3664aa5f",
   "metadata": {},
   "outputs": [],
   "source": [
    "# 1. Write a Python Program to Find the Factorial of a Number?"
   ]
  },
  {
   "cell_type": "code",
   "execution_count": 10,
   "id": "bd418038",
   "metadata": {},
   "outputs": [
    {
     "name": "stdout",
     "output_type": "stream",
     "text": [
      "Enter the number for the calculation of its factorial = 5\n",
      "The factorial of 5 is 120\n"
     ]
    }
   ],
   "source": [
    "n=int(input(\"Enter the number for the calculation of its factorial = \"))\n",
    "fact=1\n",
    "for i in range(1,n+1):\n",
    "    fact=i*fact\n",
    "print(\"The factorial of {} is {}\".format(n,fact))"
   ]
  },
  {
   "cell_type": "code",
   "execution_count": 11,
   "id": "88758d62",
   "metadata": {},
   "outputs": [],
   "source": [
    "# 2. Write a Python Program to Display the multiplication Table?"
   ]
  },
  {
   "cell_type": "code",
   "execution_count": 19,
   "id": "630b05c9",
   "metadata": {},
   "outputs": [
    {
     "name": "stdout",
     "output_type": "stream",
     "text": [
      "Enter the number for its table = 10\n",
      "10 x 1 = 10\n",
      "10 x 2 = 20\n",
      "10 x 3 = 30\n",
      "10 x 4 = 40\n",
      "10 x 5 = 50\n",
      "10 x 6 = 60\n",
      "10 x 7 = 70\n",
      "10 x 8 = 80\n",
      "10 x 9 = 90\n",
      "10 x 10 = 100\n"
     ]
    }
   ],
   "source": [
    "n=int(input(\"Enter the number for its table = \"))\n",
    "for i in range(1,11):\n",
    "    s=n*i\n",
    "    print(\"{} x {} = {}\".format(n,i,s))"
   ]
  },
  {
   "cell_type": "code",
   "execution_count": 20,
   "id": "48356934",
   "metadata": {},
   "outputs": [],
   "source": [
    "# 3. Write a Python Program to Print the Fibonacci sequence?"
   ]
  },
  {
   "cell_type": "code",
   "execution_count": 24,
   "id": "4e83463e",
   "metadata": {},
   "outputs": [
    {
     "name": "stdout",
     "output_type": "stream",
     "text": [
      "Enter the number of terms you needed in Fibonacci series= 10\n",
      "1\n",
      "1\n",
      "2\n",
      "3\n",
      "5\n",
      "8\n",
      "13\n",
      "21\n",
      "34\n",
      "55\n",
      "89\n"
     ]
    }
   ],
   "source": [
    "n=int(input(\"Enter the number of terms you needed in Fibonacci series= \"))\n",
    "b=1\n",
    "c=0\n",
    "print(b)\n",
    "for i in range(1, n+1):\n",
    "    sum=b+c\n",
    "    c=b\n",
    "    b=sum\n",
    "    print(sum)\n",
    "    \n",
    "    \n"
   ]
  },
  {
   "cell_type": "code",
   "execution_count": 25,
   "id": "9d859d4a",
   "metadata": {},
   "outputs": [],
   "source": [
    "# 4. Write a Python Program to Check Armstrong Number?"
   ]
  },
  {
   "cell_type": "code",
   "execution_count": 60,
   "id": "2daac077",
   "metadata": {},
   "outputs": [
    {
     "name": "stdout",
     "output_type": "stream",
     "text": [
      "Enter a number = 371\n",
      "371 is Armstrong number\n"
     ]
    }
   ],
   "source": [
    "n=int(input(\"Enter a number = \"))\n",
    "st=str(n)\n",
    "l=[]\n",
    "m=[]\n",
    "p=[1,2,3,4,5,6,7,8,9]\n",
    "for i in range(len(st)):\n",
    "    a_i=int(st[i])\n",
    "    l.append(a_i)\n",
    "for i in l:\n",
    "    m.append(i**3)\n",
    "i=0\n",
    "add=0\n",
    "while i<len(l):\n",
    "    add=l[i]**3+add\n",
    "    i=i+1\n",
    "if n in p:\n",
    "    print(\"{} is Armstrong number\".format(n))\n",
    "elif add==n:\n",
    "    print(\"{} is Armstrong number\".format(n))\n",
    "else:\n",
    "    print(\"{} is not a Armstrong number\".format(n))\n",
    "    \n",
    "    \n"
   ]
  },
  {
   "cell_type": "code",
   "execution_count": 6,
   "id": "9a0eb093",
   "metadata": {},
   "outputs": [],
   "source": [
    "# 6. Write a Python Program to Find the Sum of Natural Numbers?"
   ]
  },
  {
   "cell_type": "code",
   "execution_count": 7,
   "id": "5bec3bd7",
   "metadata": {},
   "outputs": [
    {
     "name": "stdout",
     "output_type": "stream",
     "text": [
      "Enter the natural number upto which sum is needed = 2\n",
      "The sum of 2 natural number is 3.0\n"
     ]
    }
   ],
   "source": [
    "n=int(input(\"Enter the natural number upto which sum is needed = \"))\n",
    "sum= n*(n+1)/2\n",
    "print(\"The sum of {} natural number is {}\".format(n,sum))"
   ]
  }
 ],
 "metadata": {
  "kernelspec": {
   "display_name": "Python 3 (ipykernel)",
   "language": "python",
   "name": "python3"
  },
  "language_info": {
   "codemirror_mode": {
    "name": "ipython",
    "version": 3
   },
   "file_extension": ".py",
   "mimetype": "text/x-python",
   "name": "python",
   "nbconvert_exporter": "python",
   "pygments_lexer": "ipython3",
   "version": "3.9.7"
  }
 },
 "nbformat": 4,
 "nbformat_minor": 5
}
