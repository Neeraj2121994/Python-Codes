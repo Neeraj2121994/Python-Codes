{
 "cells": [
  {
   "cell_type": "code",
   "execution_count": null,
   "id": "532530ee",
   "metadata": {},
   "outputs": [],
   "source": [
    "# 1. Write a Python program to convert kilometers to miles?"
   ]
  },
  {
   "cell_type": "code",
   "execution_count": 1,
   "id": "2f50fcbc",
   "metadata": {},
   "outputs": [
    {
     "name": "stdout",
     "output_type": "stream",
     "text": [
      "Enter the km you need to convert into miles = 5\n",
      "The 5 km is equal to 3.106855 miles\n"
     ]
    }
   ],
   "source": [
    "n=int(input(\"Enter the km you need to convert into miles = \"))\n",
    "M=0.621371*n\n",
    "print(\"The {} km is equal to {} miles\".format(n,M))"
   ]
  },
  {
   "cell_type": "code",
   "execution_count": null,
   "id": "c2b3c50d",
   "metadata": {},
   "outputs": [],
   "source": [
    "# 2. Write a Python program to convert Celsius to Fahrenheit?"
   ]
  },
  {
   "cell_type": "code",
   "execution_count": 2,
   "id": "10e827ce",
   "metadata": {},
   "outputs": [
    {
     "name": "stdout",
     "output_type": "stream",
     "text": [
      "Enter the degree C you need to convert into degree Fahrenheit = 0\n",
      "The 0 C is equal to 32.0 F\n"
     ]
    }
   ],
   "source": [
    "C=int(input(\"Enter the degree C you need to convert into degree Fahrenheit = \"))\n",
    "F=1.8*C+32\n",
    "print(\"The {} C is equal to {} F\".format(C,F))"
   ]
  },
  {
   "cell_type": "code",
   "execution_count": null,
   "id": "4f07ca95",
   "metadata": {},
   "outputs": [],
   "source": [
    "# 3. Write a Python program to display calendar?"
   ]
  },
  {
   "cell_type": "code",
   "execution_count": 6,
   "id": "3acee584",
   "metadata": {},
   "outputs": [
    {
     "name": "stdout",
     "output_type": "stream",
     "text": [
      "Enter the year = 2022\n",
      "Enter the month = 1\n",
      "    January 2022\n",
      "Mo Tu We Th Fr Sa Su\n",
      "                1  2\n",
      " 3  4  5  6  7  8  9\n",
      "10 11 12 13 14 15 16\n",
      "17 18 19 20 21 22 23\n",
      "24 25 26 27 28 29 30\n",
      "31\n",
      "\n"
     ]
    }
   ],
   "source": [
    "import calendar\n",
    "\n",
    "year=int(input(\"Enter the year = \"))\n",
    "mth=int(input(\"Enter the month = \"))\n",
    "print(calendar.month(year,mth))"
   ]
  },
  {
   "cell_type": "code",
   "execution_count": null,
   "id": "4c5a5c10",
   "metadata": {},
   "outputs": [],
   "source": [
    "# 4. Write a Python program to solve quadratic equation?"
   ]
  },
  {
   "cell_type": "code",
   "execution_count": 8,
   "id": "657beb73",
   "metadata": {},
   "outputs": [
    {
     "name": "stdout",
     "output_type": "stream",
     "text": [
      "Enter the cofficient of x square = 1\n",
      "Enter the cofficient of x = 4\n",
      "Enter the constant value= 4\n",
      "The roots of quadratic equations are -2.0 and -2.0\n"
     ]
    }
   ],
   "source": [
    "a=int(input(\"Enter the cofficient of x square = \"))\n",
    "b=int(input(\"Enter the cofficient of x = \"))\n",
    "c=int(input(\"Enter the constant value= \"))\n",
    "x1=(-b+(b*b-4*a*c)**(1/2))/(2*a)\n",
    "x2=(-b-(b*b-4*a*c)**(1/2))/(2*a)\n",
    "print(\"The roots of quadratic equations are {} and {}\".format(x1,x2))"
   ]
  },
  {
   "cell_type": "code",
   "execution_count": null,
   "id": "a99622df",
   "metadata": {},
   "outputs": [],
   "source": [
    "# 5. Write a Python program to swap two variables without temp variable?"
   ]
  },
  {
   "cell_type": "code",
   "execution_count": null,
   "id": "38bc6c51",
   "metadata": {},
   "outputs": [],
   "source": [
    "a=int(input(\"Enter first number = \"))\n",
    "b=int(input(\"Enter second number = \"))\n",
    "a=a+b\n",
    "b=a-b\n",
    "a=a-b\n",
    "print(\"The value of a is {} and the value of b is {}\".format(a,b))"
   ]
  }
 ],
 "metadata": {
  "kernelspec": {
   "display_name": "Python 3 (ipykernel)",
   "language": "python",
   "name": "python3"
  },
  "language_info": {
   "codemirror_mode": {
    "name": "ipython",
    "version": 3
   },
   "file_extension": ".py",
   "mimetype": "text/x-python",
   "name": "python",
   "nbconvert_exporter": "python",
   "pygments_lexer": "ipython3",
   "version": "3.9.7"
  }
 },
 "nbformat": 4,
 "nbformat_minor": 5
}
