{
 "cells": [
  {
   "cell_type": "raw",
   "id": "f39f6e9f",
   "metadata": {},
   "source": [
    "1. Write a Python program to print \"Hello Python\"?"
   ]
  },
  {
   "cell_type": "code",
   "execution_count": 1,
   "id": "c7ee4f53",
   "metadata": {},
   "outputs": [
    {
     "name": "stdout",
     "output_type": "stream",
     "text": [
      "Hello Python\n"
     ]
    }
   ],
   "source": [
    "print(\"Hello Python\")"
   ]
  },
  {
   "cell_type": "raw",
   "id": "c2f00a6c",
   "metadata": {},
   "source": [
    "2. Write a Python program to do arithmetical operations addition and division.?"
   ]
  },
  {
   "cell_type": "code",
   "execution_count": 2,
   "id": "fab57cb4",
   "metadata": {},
   "outputs": [
    {
     "name": "stdout",
     "output_type": "stream",
     "text": [
      "Enter first number6\n",
      "Enter second number2\n",
      "The sum of numbers are 8 and the division of numbers are 3.0\n"
     ]
    }
   ],
   "source": [
    "a=int(input(\"Enter first number\"))\n",
    "b=int(input(\"Enter second number\"))\n",
    "sum=a+b\n",
    "division=a/b\n",
    "print(\"The sum of numbers are {} and the division of numbers are {}\".format(sum,division))"
   ]
  },
  {
   "cell_type": "raw",
   "id": "de1fa9eb",
   "metadata": {},
   "source": [
    "3. Write a Python program to find the area of a triangle?"
   ]
  },
  {
   "cell_type": "code",
   "execution_count": 4,
   "id": "d4dd4d61",
   "metadata": {},
   "outputs": [
    {
     "name": "stdout",
     "output_type": "stream",
     "text": [
      "Enter the x coordinate of side 1 = 0\n",
      "Enter the x coordinate of side 2= 4\n",
      "Enter the x coordinate of side 3= 0\n",
      "Enter the y coordinate of side 1= 0\n",
      "Enter the y coordinate of side 2= 0\n",
      "Enter the y coordinate of side 3= 5\n",
      "The value of Area of triangle is 10.0\n"
     ]
    }
   ],
   "source": [
    "x1=int(input(\"Enter the x coordinate of side 1 = \"))\n",
    "x2=int(input(\"Enter the x coordinate of side 2= \"))\n",
    "x3=int(input(\"Enter the x coordinate of side 3= \"))\n",
    "y1=int(input(\"Enter the y coordinate of side 1= \"))\n",
    "y2=int(input(\"Enter the y coordinate of side 2= \"))\n",
    "y3=int(input(\"Enter the y coordinate of side 3= \"))\n",
    "Area = 0.5*abs((x2-x1)*(y3-y2)-(y2-y1)*(x3-x2))\n",
    "print(\"The value of Area of triangle is {}\".format(Area))"
   ]
  },
  {
   "cell_type": "raw",
   "id": "7ad8ca22",
   "metadata": {},
   "source": [
    "4. Write a Python program to swap two variables?"
   ]
  },
  {
   "cell_type": "code",
   "execution_count": 6,
   "id": "6d62d32a",
   "metadata": {},
   "outputs": [
    {
     "name": "stdout",
     "output_type": "stream",
     "text": [
      "Enter first number = 20\n",
      "Enter second number = 3\n",
      "The value of a is 3 and the value of b is 20\n"
     ]
    }
   ],
   "source": [
    "a=int(input(\"Enter first number = \"))\n",
    "b=int(input(\"Enter second number = \"))\n",
    "a=a+b\n",
    "b=a-b\n",
    "a=a-b\n",
    "print(\"The value of a is {} and the value of b is {}\".format(a,b))"
   ]
  },
  {
   "cell_type": "raw",
   "id": "1191dcfc",
   "metadata": {},
   "source": [
    "5. Write a Python program to generate a random number?"
   ]
  },
  {
   "cell_type": "code",
   "execution_count": 7,
   "id": "df9a38e6",
   "metadata": {},
   "outputs": [
    {
     "name": "stdout",
     "output_type": "stream",
     "text": [
      "0.4950326239106775\n"
     ]
    }
   ],
   "source": [
    "import random\n",
    "print(random.random())"
   ]
  },
  {
   "cell_type": "code",
   "execution_count": null,
   "id": "b0319640",
   "metadata": {},
   "outputs": [],
   "source": []
  }
 ],
 "metadata": {
  "kernelspec": {
   "display_name": "Python 3 (ipykernel)",
   "language": "python",
   "name": "python3"
  },
  "language_info": {
   "codemirror_mode": {
    "name": "ipython",
    "version": 3
   },
   "file_extension": ".py",
   "mimetype": "text/x-python",
   "name": "python",
   "nbconvert_exporter": "python",
   "pygments_lexer": "ipython3",
   "version": "3.9.7"
  }
 },
 "nbformat": 4,
 "nbformat_minor": 5
}
